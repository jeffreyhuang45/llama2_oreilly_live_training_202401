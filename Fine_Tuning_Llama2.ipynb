{
  "cells": [
    {
      "cell_type": "markdown",
      "metadata": {
        "id": "view-in-github",
        "colab_type": "text"
      },
      "source": [
        "<a href=\"https://colab.research.google.com/github/jeffreyhuang45/llama2_oreilly_live_training_202401/blob/main/Fine_Tuning_Llama2.ipynb\" target=\"_parent\"><img src=\"https://colab.research.google.com/assets/colab-badge.svg\" alt=\"Open In Colab\"/></a>"
      ]
    },
    {
      "cell_type": "markdown",
      "metadata": {
        "id": "z3YmqxiBo_0F"
      },
      "source": [
        "# Fine-Tuning LLaMA 2-7B-Chat\n",
        "\n",
        "> You can execute this notebook to fine-tune the LLaMA 2-7B-chat model on a Google Colab setup.\n",
        "\n",
        "---\n",
        "\n",
        "## Step 1: Initial Setup\n",
        "\n",
        "### Fine-Tuning LLaMA 2-7B-Chat: Initial Setup\n",
        "\n",
        "We begin by installing the required libraries. These libraries are essential for working with the LLaMA 2-7B model and include tools for model manipulation, dataset handling, and fine-tuning techniques.\n",
        "\n",
        "\n",
        "\n"
      ]
    },
    {
      "cell_type": "code",
      "execution_count": null,
      "metadata": {
        "id": "wFoSO3Kko_0J"
      },
      "outputs": [],
      "source": [
        "%%capture\n",
        "%pip install accelerate peft bitsandbytes transformers trl"
      ]
    },
    {
      "cell_type": "markdown",
      "metadata": {
        "id": "kOuP94PXo_0K"
      },
      "source": [
        "\n",
        "### Loading Necessary Modules\n",
        "\n",
        "Now, let's import the necessary Python modules. These modules include various functionalities from PyTorch, the datasets library, and several components from the Hugging Face `transformers` library."
      ]
    },
    {
      "cell_type": "code",
      "execution_count": null,
      "metadata": {
        "id": "RXsuiEFso_0K"
      },
      "outputs": [],
      "source": [
        "import os\n",
        "import torch\n",
        "from datasets import load_dataset\n",
        "from transformers import (\n",
        "    AutoModelForCausalLM,\n",
        "    AutoTokenizer,\n",
        "    BitsAndBytesConfig,\n",
        "    TrainingArguments,\n",
        "    pipeline,\n",
        "    logging\n",
        ")\n",
        "from peft import LoraConfig\n",
        "from trl import SFTTrainer"
      ]
    },
    {
      "cell_type": "markdown",
      "metadata": {
        "id": "m4eCe0NYo_0L"
      },
      "source": [
        "---\n",
        "\n",
        "#### Step 2: Model Configuration\n",
        "\n",
        "```\n",
        "# Model and Dataset Configuration\n",
        "\n",
        "In this step, we define the base model and dataset for fine-tuning. We use a pre-configured LLaMA 2-7B-chat model from Hugging Face and a specific dataset optimized for our tasks.\n",
        "```\n",
        "\n"
      ]
    },
    {
      "cell_type": "code",
      "execution_count": null,
      "metadata": {
        "id": "jSQ677Rbo_0L"
      },
      "outputs": [],
      "source": [
        "# Model from Hugging Face hub\n",
        "base_model = \"NousResearch/Llama-2-7b-chat-hf\"\n",
        "\n",
        "# New instruction dataset\n",
        "guanaco_dataset = \"mlabonne/guanaco-llama2-1k\"\n",
        "\n",
        "# Fine-tuned model\n",
        "new_model = \"llama-2-7b-chat-guanaco\""
      ]
    },
    {
      "cell_type": "markdown",
      "metadata": {
        "id": "WOIiLsVuo_0L"
      },
      "source": [
        "#### Step 3: Loading Dataset, Model, and Tokenizer\n",
        "\n",
        "```\n",
        "# Loading Dataset, Model, and Tokenizer\n",
        "\n",
        "We load the dataset from Hugging Face and prepare the LLaMA 2 model and tokenizer for fine-tuning. The dataset is already formatted to be compatible with our model.\n",
        "```\n",
        "\n",
        "\n",
        "\n"
      ]
    },
    {
      "cell_type": "code",
      "execution_count": null,
      "metadata": {
        "id": "WpDf8UPpo_0M"
      },
      "outputs": [],
      "source": [
        "\n",
        "dataset = load_dataset(guanaco_dataset, split=\"train\")\n",
        "\n"
      ]
    },
    {
      "cell_type": "markdown",
      "metadata": {
        "id": "JLVfiz03o_0M"
      },
      "source": [
        "#### Step 4: 4-Bit Quantization Configuration\n",
        "\n",
        "\n",
        "```\n",
        "# Configuring 4-Bit Quantization (QLoRA)\n",
        "\n",
        "4-bit quantization through QLoRA allows us to fine-tune large language models on consumer hardware effectively. This setup optimizes VRAM usage and retains high model performance.\n",
        "```\n",
        "\n"
      ]
    },
    {
      "cell_type": "code",
      "execution_count": null,
      "metadata": {
        "id": "PwPJ5CR_o_0N"
      },
      "outputs": [],
      "source": [
        "compute_dtype = getattr(torch, \"float16\")\n",
        "\n",
        "quant_config = BitsAndBytesConfig(\n",
        "    load_in_4bit=True,\n",
        "    bnb_4bit_quant_type=\"nf4\",\n",
        "    bnb_4bit_compute_dtype=compute_dtype,\n",
        "    bnb_4bit_use_double_quant=False,\n",
        ")\n",
        "\n",
        "\n"
      ]
    },
    {
      "cell_type": "markdown",
      "metadata": {
        "id": "Vu3K7KCqo_0N"
      },
      "source": [
        "## Step 5: Loading the LLaMA 2 Model\n",
        "\n",
        "\n",
        "### Loading the LLaMA 2 Model with 4-Bit Precision\n",
        "\n",
        "Now we load the LLaMA 2 model using the 4-bit precision configuration. This step is crucial for efficient training on limited hardware.\n"
      ]
    },
    {
      "cell_type": "code",
      "execution_count": null,
      "metadata": {
        "id": "7tJhBVa-o_0O"
      },
      "outputs": [],
      "source": [
        "model = AutoModelForCausalLM.from_pretrained(\n",
        "    base_model,\n",
        "    quantization_config=quant_config,\n",
        "    device_map={\"\": 0}\n",
        ")\n",
        "model.config.use_cache = False\n",
        "model.config.pretraining_tp = 1"
      ]
    },
    {
      "cell_type": "markdown",
      "metadata": {
        "id": "vjvcxIsao_0O"
      },
      "source": [
        "#### Step 6: Setting Up Training Parameters\n",
        "\n",
        "\n",
        "```\n",
        "# Setting Training Parameters\n",
        "\n",
        "Here, we define the training parameters. These include batch sizes, learning rates, optimizer settings, and others, which are essential for effective model training.\n",
        "```"
      ]
    },
    {
      "cell_type": "code",
      "execution_count": null,
      "metadata": {
        "id": "UoXaWp8Lo_0O"
      },
      "outputs": [],
      "source": [
        "# Load Llama tokenizer\n",
        "tokenizer = AutoTokenizer.from_pretrained(base_model, trust_remote_code=True)\n",
        "tokenizer.pad_token = tokenizer.eos_token\n",
        "tokenizer.padding_side = \"right\""
      ]
    },
    {
      "cell_type": "code",
      "execution_count": null,
      "metadata": {
        "id": "lu-CBECho_0P"
      },
      "outputs": [],
      "source": [
        "# Load LoRA configuration\n",
        "peft_args = LoraConfig(\n",
        "    lora_alpha=16,\n",
        "    lora_dropout=0.1,\n",
        "    r=64,\n",
        "    bias=\"none\",\n",
        "    task_type=\"CAUSAL_LM\",\n",
        ")"
      ]
    },
    {
      "cell_type": "code",
      "execution_count": null,
      "metadata": {
        "id": "x9psrskmo_0P"
      },
      "outputs": [],
      "source": [
        "training_params = TrainingArguments(\n",
        "    output_dir=\"./results\",\n",
        "    num_train_epochs=1,\n",
        "    per_device_train_batch_size=4,\n",
        "    gradient_accumulation_steps=1,\n",
        "    optim=\"paged_adamw_32bit\",\n",
        "    save_steps=25,\n",
        "    logging_steps=25,\n",
        "    learning_rate=2e-4,\n",
        "    weight_decay=0.001,\n",
        "    fp16=False,\n",
        "    bf16=False,\n",
        "    max_grad_norm=0.3,\n",
        "    max_steps=-1,\n",
        "    warmup_ratio=0.03,\n",
        "    group_by_length=True,\n",
        "    lr_scheduler_type=\"constant\",\n",
        "    report_to=\"tensorboard\"\n",
        ")\n"
      ]
    },
    {
      "cell_type": "markdown",
      "metadata": {
        "id": "SvoKlO70o_0P"
      },
      "source": [
        "#### Step 7: Fine-Tuning the Model"
      ]
    },
    {
      "cell_type": "code",
      "execution_count": null,
      "metadata": {
        "id": "m_T30348o_0P"
      },
      "outputs": [],
      "source": [
        "# Set supervised fine-tuning parameters\n",
        "trainer = SFTTrainer(\n",
        "    model=model,\n",
        "    train_dataset=dataset,\n",
        "    peft_config=peft_args,\n",
        "    dataset_text_field=\"text\",\n",
        "    max_seq_length=None,\n",
        "    tokenizer=tokenizer,\n",
        "    args=training_params,\n",
        "    packing=False,\n",
        ")"
      ]
    },
    {
      "cell_type": "markdown",
      "metadata": {
        "id": "NTPajj9Co_0P"
      },
      "source": [
        "Let's train the model!"
      ]
    },
    {
      "cell_type": "code",
      "execution_count": null,
      "metadata": {
        "id": "iETt4_CZo_0P"
      },
      "outputs": [],
      "source": [
        "# Train model\n",
        "trainer.train()"
      ]
    },
    {
      "cell_type": "markdown",
      "metadata": {
        "id": "j41QGfXpo_0P"
      },
      "source": [
        "# Save Fine-Tuned Model and Tokenizer\n",
        "\n"
      ]
    },
    {
      "cell_type": "code",
      "execution_count": null,
      "metadata": {
        "id": "InGXIeaXo_0P"
      },
      "outputs": [],
      "source": [
        "trainer.model.save_pretrained(new_model)\n",
        "trainer.tokenizer.save_pretrained(new_model)"
      ]
    },
    {
      "cell_type": "code",
      "execution_count": null,
      "metadata": {
        "id": "lWcC58c6o_0P"
      },
      "outputs": [],
      "source": [
        "from tensorboard import notebook\n",
        "log_dir = \"results/runs\"\n",
        "notebook.start(\"--logdir {} --port 4000\".format(log_dir))\n",
        "\n",
        "# Test the model\n",
        "logging.set_verbosity(logging.CRITICAL)\n",
        "prompt = \"Who is Leonardo Da Vinci?\"\n",
        "pipe = pipeline(task=\"text-generation\", model=model, tokenizer=tokenizer, max_length=200)\n",
        "result = pipe(f\"<s>[INST] {prompt} [/INST]\")\n",
        "print(result[0]['generated_text'])"
      ]
    },
    {
      "cell_type": "markdown",
      "metadata": {
        "id": "IKGIrZoYo_0P"
      },
      "source": [
        "The credits for this notebooks go to this awesome article by datacamp:\n",
        "- https://www.datacamp.com/tutorial/fine-tuning-llama-2"
      ]
    },
    {
      "cell_type": "markdown",
      "metadata": {
        "id": "f2jA8OIQo_0P"
      },
      "source": [
        "# References\n",
        "\n",
        "- https://www.datacamp.com/tutorial/fine-tuning-llama-2\n",
        "- https://huggingface.co/docs/optimum/concept_guides/quantization\n",
        "- https://arxiv.org/abs/2106.09685\n",
        "- https://huggingface.co/docs/optimum/concept_guides/quantization"
      ]
    }
  ],
  "metadata": {
    "kernelspec": {
      "display_name": "oreilly_llama2",
      "language": "python",
      "name": "oreilly_llama2"
    },
    "language_info": {
      "name": "python",
      "version": "3.11.5"
    },
    "colab": {
      "provenance": [],
      "include_colab_link": true
    }
  },
  "nbformat": 4,
  "nbformat_minor": 0
}